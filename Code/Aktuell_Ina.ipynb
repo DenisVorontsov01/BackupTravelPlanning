{
 "cells": [
  {
   "metadata": {},
   "cell_type": "markdown",
   "source": "Import of Packages",
   "id": "1aa238fa957aaa40"
  },
  {
   "cell_type": "code",
   "id": "initial_id",
   "metadata": {
    "collapsed": true,
    "ExecuteTime": {
     "end_time": "2025-01-21T13:13:47.622651Z",
     "start_time": "2025-01-21T13:13:47.615867Z"
    }
   },
   "source": [
    "import scipy.stats as stats\n",
    "import heapq\n",
    "from collections import defaultdict\n",
    "#from Code.import_data import import_data\n",
    "from datetime import datetime, timedelta\n",
    "import pandas as pd"
   ],
   "outputs": [],
   "execution_count": 55
  },
  {
   "metadata": {},
   "cell_type": "markdown",
   "source": "Import of Data",
   "id": "a7476dc616a344e5"
  },
  {
   "metadata": {
    "ExecuteTime": {
     "end_time": "2025-01-21T13:13:47.637371Z",
     "start_time": "2025-01-21T13:13:47.626233Z"
    }
   },
   "cell_type": "code",
   "source": [
    "\n",
    "def import_data():\n",
    "    # @diana and denis, change to your directory\n",
    "    gtfs_dir = '/Users/paulinaheine/Codes/BackupTravelPlanning/GTFS_OP_2024_obb-2/'\n",
    "\n",
    "    # Load data\n",
    "    agency_df = pd.read_csv(gtfs_dir + 'agency.txt')\n",
    "    stops_df = pd.read_csv(gtfs_dir + 'stops.txt')\n",
    "    routes_df = pd.read_csv(gtfs_dir + 'routes.txt')\n",
    "    trips_df = pd.read_csv(gtfs_dir + 'trips.txt')\n",
    "    stop_times_df = pd.read_csv(gtfs_dir + 'stop_times.txt')\n",
    "    calendar_df = pd.read_csv(gtfs_dir + 'calendar.txt')\n",
    "    calendar_dates_df = pd.read_csv(gtfs_dir + 'calendar_dates.txt')\n",
    "    shapes_df = pd.read_csv(gtfs_dir + 'shapes.txt')\n",
    "    \n",
    "    # Return all DataFrames\n",
    "    return agency_df, stops_df, routes_df, trips_df, stop_times_df, calendar_df, calendar_dates_df, shapes_df\n",
    "\n",
    "# Import and display data\n"
   ],
   "id": "6dbda37a5cf4a02",
   "outputs": [],
   "execution_count": 56
  },
  {
   "metadata": {},
   "cell_type": "markdown",
   "source": "Helping Functions",
   "id": "db438fd723298b46"
  },
  {
   "metadata": {
    "ExecuteTime": {
     "end_time": "2025-01-21T13:17:47.908426Z",
     "start_time": "2025-01-21T13:17:47.890422Z"
    }
   },
   "cell_type": "code",
   "source": [
    "def time_to_minutes(time_str):\n",
    "    hours, minutes, seconds = map(int, time_str.split(\":\"))\n",
    "    return hours * 60 + minutes + seconds / 60\n",
    "\n",
    "def minutes_to_time(minutes):\n",
    "    hours = int(minutes // 60)\n",
    "    minutes = int(minutes % 60)\n",
    "    return f\"{hours:02d}:{minutes:02d}\"\n",
    "\n",
    "def get_weekday(date):\n",
    "    weekdays = [\"monday\", \"tuesday\", \"wednesday\", \"thursday\", \"friday\", \"saturday\", \"sunday\"]\n",
    "    return weekdays[date.weekday()]\n",
    "\n",
    "def is_service_available(service_id, start_time_obj, calendar, calendar_dates):\n",
    "    #date_str = date.strftime(\"%Y%m%d\")\n",
    "    #date = date.date()\n",
    "    # Convert date to string in YYYYMMDD format\n",
    "    date_str = start_time_obj.strftime(\"%Y%m%d\")\n",
    "    weekday = [\"monday\", \"tuesday\", \"wednesday\", \"thursday\", \"friday\", \"saturday\", \"sunday\"][start_time_obj.weekday()]\n",
    "\n",
    "    # Step 1: Check for exceptions in calendar_dates\n",
    "    if service_id in calendar_dates[\"service_id\"].values:\n",
    "        exceptions = calendar_dates[calendar_dates[\"service_id\"] == service_id]\n",
    "        for _, exception in exceptions.iterrows():\n",
    "            if exception[\"date\"] == int(date_str):\n",
    "                if exception[\"exception_type\"] == 2:  # Service is added as an exception\n",
    "                    return True\n",
    "                #elif exception[\"exception_type\"] == 1:  # Service is removed as an exception\n",
    "                #    return False\n",
    "\n",
    "    # Step 2: Check for regular service in calendar\n",
    "    if service_id in calendar[\"service_id\"].values:\n",
    "        service = calendar[calendar[\"service_id\"] == service_id]\n",
    "        # Check if date is within start_date and end_date\n",
    "        if int(service[\"start_date\"].iloc[0]) <= int(date_str) <= int(service[\"end_date\"].iloc[0]):\n",
    "            # Check if the service operates on this weekday\n",
    "            is_available = (service[weekday].iloc[0] == 1)\n",
    "            if is_available == 1:\n",
    "                return True\n",
    "    return False\n",
    "\n",
    "def prepare_calendar_dates(calendar_dates):\n",
    "    grouped = calendar_dates.groupby(\"service_id\")\n",
    "    calendar_dates_dict = {}\n",
    "    for service_id, group in grouped:\n",
    "        exceptions = group.to_dict(orient=\"records\")\n",
    "        calendar_dates_dict[service_id] = exceptions\n",
    "    return calendar_dates_dict"
   ],
   "id": "4ea20b531303739b",
   "outputs": [],
   "execution_count": 69
  },
  {
   "metadata": {
    "ExecuteTime": {
     "end_time": "2025-01-21T13:17:47.873347Z",
     "start_time": "2025-01-21T13:17:34.460133Z"
    }
   },
   "cell_type": "code",
   "source": "#agency, stops, routes, trips, stop_times, calendar, calendar_dates, shapes = import_data()",
   "id": "b3dfb65b16f2be1",
   "outputs": [],
   "execution_count": 68
  },
  {
   "metadata": {},
   "cell_type": "markdown",
   "source": "Create Graph",
   "id": "79f58bfb3daae85b"
  },
  {
   "metadata": {
    "ExecuteTime": {
     "end_time": "2025-01-21T13:31:49.459165Z",
     "start_time": "2025-01-21T13:31:49.446805Z"
    }
   },
   "cell_type": "code",
   "source": [
    "def create_graph_with_schedule(stop_times, stops, trips, calendar, calendar_dates, start_time_obj, end_time_obj):\n",
    "    '''\n",
    "    funktioniert endlich, if not wurde entfernt weil es mich genervt hat 3-4 min \n",
    "    '''\n",
    "\n",
    "    graph = defaultdict(list)\n",
    "    stop_id_to_name = stops.set_index(\"stop_id\")[\"stop_name\"].to_dict()\n",
    "    # Filter for active trips today using is_service\n",
    "    trip_id_to_service = trips.set_index(\"trip_id\")[\"service_id\"].to_dict()\n",
    "    trip_id_to_route = trips.set_index(\"trip_id\")[\"route_id\"].to_dict()\n",
    "\n",
    "    calendar_dates_2 = prepare_calendar_dates(calendar_dates)\n",
    "    stop_times = stop_times.sort_values(by=[\"trip_id\", \"stop_sequence\"])\n",
    "\n",
    "    #####\n",
    "    #Filter\n",
    "    #####\n",
    "\n",
    "    stop_times_copy = stop_times.copy()\n",
    "    # Filter out stops outside the time window\n",
    "    stop_times_copy[\"arrival_minutes\"] = stop_times_copy[\"arrival_time\"].apply(time_to_minutes)\n",
    "    stop_times_copy[\"departure_minutes\"] = stop_times_copy[\"departure_time\"].apply(time_to_minutes)\n",
    "\n",
    "    start_minutes = time_to_minutes(start_time_obj.strftime(\"%H:%M:%S\"))\n",
    "    end_minutes = time_to_minutes(end_time_obj.strftime(\"%H:%M:%S\"))\n",
    "\n",
    "    stop_times = stop_times_copy[\n",
    "        (stop_times_copy[\"arrival_minutes\"] >= start_minutes) &\n",
    "        (stop_times_copy[\"departure_minutes\"] <= end_minutes)\n",
    "        ]\n",
    "\n",
    "    print(f\"Rows after time window filter: {len(stop_times)}\")\n",
    "\n",
    "\n",
    "    #trip_id_to_service = trips.set_index(\"trip_id\")[\"service_id\"].to_dict()\n",
    "    stop_times[\"service_id\"] = stop_times[\"trip_id\"].map(trip_id_to_service)\n",
    "\n",
    "    grouped = stop_times.groupby(\"trip_id\")\n",
    "    for trip_id, group in grouped:\n",
    "        service_id = trip_id_to_service.get(trip_id)\n",
    "        \n",
    "        if is_service_available(service_id, start_time_obj, calendar, calendar_dates) == True:\n",
    "    \n",
    "            stops = group[\"stop_id\"].tolist()\n",
    "            departures = group[\"departure_time\"].apply(time_to_minutes).tolist()\n",
    "            arrivals = group[\"arrival_time\"].apply(time_to_minutes).tolist()\n",
    "    \n",
    "            for start, end, dep, arr in zip(stops[:-1], stops[1:], departures[:-1], arrivals[1:]):\n",
    "                travel_time = arr - dep\n",
    "                if travel_time > 0:\n",
    "                    graph[stop_id_to_name[start]].append(\n",
    "                        (stop_id_to_name[end], dep, arr, trip_id_to_route.get(trip_id))\n",
    "                    )\n",
    "\n",
    "    return graph\n"
   ],
   "id": "10f80925c6c5125e",
   "outputs": [],
   "execution_count": 81
  },
  {
   "metadata": {},
   "cell_type": "markdown",
   "source": "Reliability function",
   "id": "9b8a7414cde9e2db"
  },
  {
   "metadata": {
    "ExecuteTime": {
     "end_time": "2025-01-21T13:14:03.161423Z",
     "start_time": "2025-01-21T13:14:03.155590Z"
    }
   },
   "cell_type": "code",
   "source": [
    "def compute_transfer_probability_with_departure_delay(transfer_time):\n",
    "    #transfer_window = departure_time - scheduled_arrival\n",
    "    #if transfer_window < 0:\n",
    "    #    return 0.1  # No chance of a successful transfer if arrival is after departure\n",
    "    return stats.gamma.cdf(transfer_time, a=2, scale=3)\n"
   ],
   "id": "b9209559e07202bf",
   "outputs": [],
   "execution_count": 62
  },
  {
   "metadata": {},
   "cell_type": "markdown",
   "source": "Djikstra",
   "id": "ee7bb4a7c2644aad"
  },
  {
   "metadata": {
    "ExecuteTime": {
     "end_time": "2025-01-21T17:41:19.216541Z",
     "start_time": "2025-01-21T17:41:19.206412Z"
    }
   },
   "cell_type": "code",
   "source": [
    "def dijkstra_with_reliability_fixed(graph, start_name, end_name, start_time_minutes, time_budget_minutes,\n",
    "                                    exclude_routes=set(), MIN_TRANSFER_TIME= 5):\n",
    "    pq = [(start_time_minutes, start_name, [], 1.0,\n",
    "           None)]  # (aktuelle Zeit, aktuelle Haltestelle, Pfad, Zuverlässigkeit, letzte Linie)\n",
    "    visited = set()\n",
    "    MIN_TRANSFER_TIME = 5  # Mindestumstiegszeit in Minuten\n",
    "\n",
    "    while pq:\n",
    "        current_time, current_stop, path, reliability, last_route = heapq.heappop(pq)\n",
    "\n",
    "        if (current_stop, current_time) in visited:\n",
    "            continue\n",
    "        visited.add((current_stop, current_time))\n",
    "\n",
    "        path = path + [(current_stop, current_time)]\n",
    "\n",
    "        if current_time - start_time_minutes > time_budget_minutes:\n",
    "            continue  # Pruning: Abbruch, wenn Zeitbudget überschritten\n",
    "\n",
    "        for neighbor, departure_time, arrival_time, route_id in graph[current_stop]:\n",
    "            if departure_time >= current_time and route_id not in exclude_routes:\n",
    "                # Prüfe, ob es ein Umstieg ist (Linienwechsel)\n",
    "                is_transfer = last_route is not None and last_route != route_id\n",
    "                if is_transfer:\n",
    "                    # Mindestumstiegszeit von 5 Minuten nur bei Umstiegen\n",
    "                    transfer_time = departure_time - current_time\n",
    "                    if transfer_time < MIN_TRANSFER_TIME:\n",
    "                        continue  # Pruning: Zu wenig Zeit für Umstieg\n",
    "\n",
    "                # Berechne neue Zuverlässigkeit mit Transferwahrscheinlichkeit\n",
    "                if not is_transfer:  # Keine Zuverlässigkeitsänderung bei gleicher Linie\n",
    "                    transfer_reliability = 1.0\n",
    "                else:\n",
    "                    transfer_reliability = compute_transfer_probability_with_departure_delay(transfer_time)\n",
    "\n",
    "                new_current_time = arrival_time\n",
    "                new_reliability = reliability * transfer_reliability\n",
    "\n",
    "                heapq.heappush(pq, (\n",
    "                    new_current_time, neighbor, path + [(route_id, departure_time, arrival_time)], new_reliability,\n",
    "                    route_id))\n",
    "\n",
    "        if current_stop == end_name:\n",
    "            return current_time, path, reliability\n",
    "\n",
    "    return float(\"inf\"), [], 0.0  # Keine Route gefunden"
   ],
   "id": "f536d986d8217fcb",
   "outputs": [],
   "execution_count": 162
  },
  {
   "metadata": {},
   "cell_type": "markdown",
   "source": "Backup Djikstra",
   "id": "680e98e7ec562ee5"
  },
  {
   "metadata": {
    "ExecuteTime": {
     "end_time": "2025-01-21T20:41:27.866692Z",
     "start_time": "2025-01-21T20:41:27.854746Z"
    }
   },
   "cell_type": "code",
   "source": [
    "\n",
    "def find_backup_routes(graph, primary_path, start_time_minutes, time_budget_minutes):\n",
    "    backup_routes = []\n",
    "    used_routes = {segment[0] for segment in primary_path if isinstance(segment, tuple) and len(segment) == 3}\n",
    "\n",
    "    for i in range(1, len(primary_path) - 1, 2):  # Alle Umstiegspunkte durchgehen\n",
    "        transfer_stop, transfer_time = primary_path[i - 1]\n",
    "\n",
    "        if transfer_stop in graph:\n",
    "            backup_time, backup_path, backup_reliability = dijkstra_with_reliability_fixed(\n",
    "                graph, transfer_stop, primary_path[-1][0], transfer_time, time_budget_minutes, used_routes\n",
    "            )\n",
    "\n",
    "            if backup_time < float(\"inf\") and backup_path and backup_path != primary_path:\n",
    "                alternative_path = []\n",
    "                alternative_routes = set()\n",
    "\n",
    "                for j in range(1, len(backup_path) - 1, 2):\n",
    "                    stop1, time1 = backup_path[j - 1]\n",
    "                    route, dep, arr = backup_path[j]\n",
    "                    stop2, _ = backup_path[j + 1]\n",
    "\n",
    "                    # **Kriterium für alternative Backup-Route:**\n",
    "                    # - Die Route darf nicht exakt der Primärroute entsprechen.\n",
    "                    # - Die Haltestellen dürfen wiederverwendet werden, aber nicht in identischen Abschnitten.\n",
    "                    if route not in used_routes:\n",
    "                        alternative_path.append((stop1, minutes_to_time(dep), stop2, minutes_to_time(arr), route))\n",
    "                        alternative_routes.add(route)\n",
    "\n",
    "                if alternative_path:\n",
    "                    backup_routes.append((transfer_stop, alternative_path, backup_reliability))\n",
    "                    used_routes.update(alternative_routes)  # Speichere die genutzten alternativen Linien\n",
    "\n",
    "    return backup_routes  # Gibt jetzt echte alternative Backup-Routen zurück\n",
    "\n",
    "# TODO Only exlude route before transfer and one after\n",
    "# TODO search for mreliable\n",
    "# TODO Backup rout would start at leats at departure time of missed connection\n",
    "\n"
   ],
   "id": "b40257c013a3ed4b",
   "outputs": [],
   "execution_count": 187
  },
  {
   "metadata": {},
   "cell_type": "markdown",
   "source": "MAIN",
   "id": "5e8dc3f300be25f4"
  },
  {
   "metadata": {
    "ExecuteTime": {
     "end_time": "2025-01-21T17:36:19.575658Z",
     "start_time": "2025-01-21T17:35:15.180285Z"
    }
   },
   "cell_type": "code",
   "source": [
    "\n",
    "# Hauptprogramm\n",
    "if __name__ == \"__main__\":\n",
    "\n",
    "    agency, stops, routes, trips, stop_times, calendar, calendar_dates, shapes = import_data()\n",
    "\n",
    "    start_stop_name = \"Schattendorf Kirchengasse\"\n",
    "    end_stop_name = \"Flughafen Wien Bahnhof\"\n",
    "    start_datetime = \"2024-12-12 14:30:00\"\n",
    "\n",
    "    time_budget = \"2:10\"\n",
    "    time_budget_hours, time_budget_minutes = map(int, time_budget.split(\":\"))\n",
    "    time_budget_minutes = time_budget_hours * 60 + time_budget_minutes / 60\n",
    "\n",
    "    start_time_obj = datetime.strptime(start_datetime, \"%Y-%m-%d %H:%M:%S\")\n",
    "    start_time_minutes = start_time_obj.hour * 60 + start_time_obj.minute\n",
    "\n",
    "    # In ein reines date-Objekt umwandeln\n",
    "    start_time_obj = datetime.strptime(start_datetime, \"%Y-%m-%d %H:%M:%S\")\n",
    "    end_time_obj = start_time_obj + timedelta(minutes=time_budget_minutes)\n",
    "    date_obj = start_time_obj.date()\n",
    "\n",
    "    start_time_minutes = start_time_obj.hour * 60 + start_time_obj.minute\n",
    "\n",
    "    #fast and weird\n",
    "    #graph = create_graph_with_schedule(stop_times, stops, trips, calendar, calendar_dates, start_time_obj)\n",
    "\n",
    "    #slow and correct\n",
    "    print(\"creating graph\")\n",
    "    graph = create_graph_with_schedule(stop_times, stops, trips, calendar, calendar_dates, start_time_obj, end_time_obj)\n",
    "    if start_stop_name not in graph or end_stop_name not in graph:\n",
    "        print(\"🚨 Ungültige Start- oder Zielhaltestelle!\")\n",
    "        #sys.exit()\n",
    "\n",
    "    # Haupt-Dijkstra-Lauf\n",
    "    print(\"djikstra\")\n",
    "    arrival_time_minutes_fixed, path_fixed, reliability_fixed = dijkstra_with_reliability_fixed(\n",
    "        graph, start_stop_name, end_stop_name, start_time_minutes, time_budget_minutes,MIN_TRANSFER_TIME=5\n",
    "    )\n",
    "\n",
    "    # Backup-Routen berechnen\n",
    "    print(\"backups\")\n",
    "    backup_routes = find_backup_routes(graph, path_fixed, start_time_minutes, time_budget_minutes = 3000, MIN_TRANSFER_TIME= 10)\n",
    "\n",
    "    # Ergebnis anzeigen\n",
    "    if arrival_time_minutes_fixed < float(\"inf\"):\n",
    "        arrival_time_fixed = minutes_to_time(arrival_time_minutes_fixed)\n",
    "        print(f\"\\n📍 Optimierte zuverlässigste Route von {start_stop_name} nach {end_stop_name}:\")\n",
    "\n",
    "        last_route = None\n",
    "        grouped_routes = []\n",
    "\n",
    "        for i in range(1, len(path_fixed) - 1, 2):\n",
    "            current_stop, current_time = path_fixed[i - 1]\n",
    "            route_id, departure_time, arrival_time = path_fixed[i]\n",
    "            next_stop, _ = path_fixed[i + 1]\n",
    "\n",
    "            if route_id == last_route:\n",
    "                grouped_routes[-1][\"stops\"].append((next_stop, arrival_time))\n",
    "            else:\n",
    "                grouped_routes.append({\n",
    "                    \"route_id\": route_id,\n",
    "                    \"start_stop\": current_stop,\n",
    "                    \"departure_time\": departure_time,\n",
    "                    \"stops\": [(next_stop, arrival_time)]\n",
    "                })\n",
    "            last_route = route_id\n",
    "\n",
    "        for segment in grouped_routes:\n",
    "            start = segment[\"start_stop\"]\n",
    "            dep_time = minutes_to_time(segment[\"departure_time\"])\n",
    "            route = segment[\"route_id\"]\n",
    "            stops = \" → \".join([f\"{stop} (Ankunft: {minutes_to_time(arr)})\" for stop, arr in segment[\"stops\"]])\n",
    "            print(f\"  🚆 {start} (Abfahrt: {dep_time}) → {stops} mit Linie {route}\")\n",
    "\n",
    "        print(f\"\\n🎯 Endstation: {end_stop_name} (Ankunft: {arrival_time_fixed})\")\n",
    "        print(f\"🔹 Gesamt-Zuverlässigkeit der Route: {reliability_fixed:.2f}\\n\")\n",
    "\n",
    "\n",
    "        print(\"🔄 Backup-Routen:\")\n",
    "        if backup_routes:\n",
    "            print(\"\\n🔄 Backup-Routen:\")\n",
    "            for stop, path, reliability in backup_routes:\n",
    "                print(f\"  🔁 Backup von {stop}:\")\n",
    "                last_route = None\n",
    "                first_segment = True\n",
    "\n",
    "                for segment in path:\n",
    "                    start, dep_time, end, arr_time, route = segment\n",
    "\n",
    "                    if last_route == route:\n",
    "                        print(f\" → {end} (Ankunft: {arr_time})\", end=\"\")\n",
    "                    else:\n",
    "                        if not first_segment:\n",
    "                            print()\n",
    "                        print(f\"    🚆 {start} (Abfahrt: {dep_time}) → {end} (Ankunft: {arr_time}) mit Linie {route}\",\n",
    "                              end=\"\")\n",
    "                        first_segment = False\n",
    "\n",
    "                    last_route = route\n",
    "\n",
    "                print(f\"\\n    🔹 Zuverlässigkeit: {reliability:.2f}\\n\")\n",
    "        else:\n",
    "            print(\"  ❌ Keine Backup-Routen verfügbar.\")\n",
    "\n",
    "        print()\n",
    "    else:\n",
    "        print(f\"\\n⚠️ Keine zuverlässige Route von {start_stop_name} nach {end_stop_name} gefunden.\\n\")\n",
    "\n"
   ],
   "id": "285f9d9eb8a52f34",
   "outputs": [
    {
     "name": "stdout",
     "output_type": "stream",
     "text": [
      "creating graph\n",
      "Rows after time window filter: 32584\n"
     ]
    },
    {
     "name": "stderr",
     "output_type": "stream",
     "text": [
      "/var/folders/qw/jbl_sx2j4r114n9k1myblk6c0000gn/T/ipykernel_47130/2638892618.py:36: SettingWithCopyWarning: \n",
      "A value is trying to be set on a copy of a slice from a DataFrame.\n",
      "Try using .loc[row_indexer,col_indexer] = value instead\n",
      "\n",
      "See the caveats in the documentation: https://pandas.pydata.org/pandas-docs/stable/user_guide/indexing.html#returning-a-view-versus-a-copy\n",
      "  stop_times[\"service_id\"] = stop_times[\"trip_id\"].map(trip_id_to_service)\n"
     ]
    },
    {
     "ename": "KeyboardInterrupt",
     "evalue": "",
     "output_type": "error",
     "traceback": [
      "\u001B[0;31m---------------------------------------------------------------------------\u001B[0m",
      "\u001B[0;31mKeyboardInterrupt\u001B[0m                         Traceback (most recent call last)",
      "\u001B[0;32m/var/folders/qw/jbl_sx2j4r114n9k1myblk6c0000gn/T/ipykernel_47130/183143171.py\u001B[0m in \u001B[0;36m?\u001B[0;34m()\u001B[0m\n\u001B[1;32m     25\u001B[0m     \u001B[0;31m#graph = create_graph_with_schedule(stop_times, stops, trips, calendar, calendar_dates, start_time_obj)\u001B[0m\u001B[0;34m\u001B[0m\u001B[0;34m\u001B[0m\u001B[0m\n\u001B[1;32m     26\u001B[0m \u001B[0;34m\u001B[0m\u001B[0m\n\u001B[1;32m     27\u001B[0m     \u001B[0;31m#slow and correct\u001B[0m\u001B[0;34m\u001B[0m\u001B[0;34m\u001B[0m\u001B[0m\n\u001B[1;32m     28\u001B[0m     \u001B[0mprint\u001B[0m\u001B[0;34m(\u001B[0m\u001B[0;34m\"creating graph\"\u001B[0m\u001B[0;34m)\u001B[0m\u001B[0;34m\u001B[0m\u001B[0;34m\u001B[0m\u001B[0m\n\u001B[0;32m---> 29\u001B[0;31m     \u001B[0mgraph\u001B[0m \u001B[0;34m=\u001B[0m \u001B[0mcreate_graph_with_schedule\u001B[0m\u001B[0;34m(\u001B[0m\u001B[0mstop_times\u001B[0m\u001B[0;34m,\u001B[0m \u001B[0mstops\u001B[0m\u001B[0;34m,\u001B[0m \u001B[0mtrips\u001B[0m\u001B[0;34m,\u001B[0m \u001B[0mcalendar\u001B[0m\u001B[0;34m,\u001B[0m \u001B[0mcalendar_dates\u001B[0m\u001B[0;34m,\u001B[0m \u001B[0mstart_time_obj\u001B[0m\u001B[0;34m,\u001B[0m \u001B[0mend_time_obj\u001B[0m\u001B[0;34m)\u001B[0m\u001B[0;34m\u001B[0m\u001B[0;34m\u001B[0m\u001B[0m\n\u001B[0m\u001B[1;32m     30\u001B[0m     \u001B[0;32mif\u001B[0m \u001B[0mstart_stop_name\u001B[0m \u001B[0;32mnot\u001B[0m \u001B[0;32min\u001B[0m \u001B[0mgraph\u001B[0m \u001B[0;32mor\u001B[0m \u001B[0mend_stop_name\u001B[0m \u001B[0;32mnot\u001B[0m \u001B[0;32min\u001B[0m \u001B[0mgraph\u001B[0m\u001B[0;34m:\u001B[0m\u001B[0;34m\u001B[0m\u001B[0;34m\u001B[0m\u001B[0m\n\u001B[1;32m     31\u001B[0m         \u001B[0mprint\u001B[0m\u001B[0;34m(\u001B[0m\u001B[0;34m\"🚨 Ungültige Start- oder Zielhaltestelle!\"\u001B[0m\u001B[0;34m)\u001B[0m\u001B[0;34m\u001B[0m\u001B[0;34m\u001B[0m\u001B[0m\n\u001B[1;32m     32\u001B[0m         \u001B[0;31m#sys.exit()\u001B[0m\u001B[0;34m\u001B[0m\u001B[0;34m\u001B[0m\u001B[0m\n",
      "\u001B[0;32m/var/folders/qw/jbl_sx2j4r114n9k1myblk6c0000gn/T/ipykernel_47130/2638892618.py\u001B[0m in \u001B[0;36m?\u001B[0;34m(stop_times, stops, trips, calendar, calendar_dates, start_time_obj, end_time_obj)\u001B[0m\n\u001B[1;32m     38\u001B[0m     \u001B[0mgrouped\u001B[0m \u001B[0;34m=\u001B[0m \u001B[0mstop_times\u001B[0m\u001B[0;34m.\u001B[0m\u001B[0mgroupby\u001B[0m\u001B[0;34m(\u001B[0m\u001B[0;34m\"trip_id\"\u001B[0m\u001B[0;34m)\u001B[0m\u001B[0;34m\u001B[0m\u001B[0;34m\u001B[0m\u001B[0m\n\u001B[1;32m     39\u001B[0m     \u001B[0;32mfor\u001B[0m \u001B[0mtrip_id\u001B[0m\u001B[0;34m,\u001B[0m \u001B[0mgroup\u001B[0m \u001B[0;32min\u001B[0m \u001B[0mgrouped\u001B[0m\u001B[0;34m:\u001B[0m\u001B[0;34m\u001B[0m\u001B[0;34m\u001B[0m\u001B[0m\n\u001B[1;32m     40\u001B[0m         \u001B[0mservice_id\u001B[0m \u001B[0;34m=\u001B[0m \u001B[0mtrip_id_to_service\u001B[0m\u001B[0;34m.\u001B[0m\u001B[0mget\u001B[0m\u001B[0;34m(\u001B[0m\u001B[0mtrip_id\u001B[0m\u001B[0;34m)\u001B[0m\u001B[0;34m\u001B[0m\u001B[0;34m\u001B[0m\u001B[0m\n\u001B[1;32m     41\u001B[0m \u001B[0;34m\u001B[0m\u001B[0m\n\u001B[0;32m---> 42\u001B[0;31m         \u001B[0;32mif\u001B[0m \u001B[0mis_service_available\u001B[0m\u001B[0;34m(\u001B[0m\u001B[0mservice_id\u001B[0m\u001B[0;34m,\u001B[0m \u001B[0mstart_time_obj\u001B[0m\u001B[0;34m,\u001B[0m \u001B[0mcalendar\u001B[0m\u001B[0;34m,\u001B[0m \u001B[0mcalendar_dates\u001B[0m\u001B[0;34m)\u001B[0m \u001B[0;34m==\u001B[0m \u001B[0;32mTrue\u001B[0m\u001B[0;34m:\u001B[0m\u001B[0;34m\u001B[0m\u001B[0;34m\u001B[0m\u001B[0m\n\u001B[0m\u001B[1;32m     43\u001B[0m \u001B[0;34m\u001B[0m\u001B[0m\n\u001B[1;32m     44\u001B[0m             \u001B[0mstops\u001B[0m \u001B[0;34m=\u001B[0m \u001B[0mgroup\u001B[0m\u001B[0;34m[\u001B[0m\u001B[0;34m\"stop_id\"\u001B[0m\u001B[0;34m]\u001B[0m\u001B[0;34m.\u001B[0m\u001B[0mtolist\u001B[0m\u001B[0;34m(\u001B[0m\u001B[0;34m)\u001B[0m\u001B[0;34m\u001B[0m\u001B[0;34m\u001B[0m\u001B[0m\n\u001B[1;32m     45\u001B[0m             \u001B[0mdepartures\u001B[0m \u001B[0;34m=\u001B[0m \u001B[0mgroup\u001B[0m\u001B[0;34m[\u001B[0m\u001B[0;34m\"departure_time\"\u001B[0m\u001B[0;34m]\u001B[0m\u001B[0;34m.\u001B[0m\u001B[0mapply\u001B[0m\u001B[0;34m(\u001B[0m\u001B[0mtime_to_minutes\u001B[0m\u001B[0;34m)\u001B[0m\u001B[0;34m.\u001B[0m\u001B[0mtolist\u001B[0m\u001B[0;34m(\u001B[0m\u001B[0;34m)\u001B[0m\u001B[0;34m\u001B[0m\u001B[0;34m\u001B[0m\u001B[0m\n",
      "\u001B[0;32m/var/folders/qw/jbl_sx2j4r114n9k1myblk6c0000gn/T/ipykernel_47130/3022672776.py\u001B[0m in \u001B[0;36m?\u001B[0;34m(service_id, start_time_obj, calendar, calendar_dates)\u001B[0m\n\u001B[1;32m     19\u001B[0m     \u001B[0mweekday\u001B[0m \u001B[0;34m=\u001B[0m \u001B[0;34m[\u001B[0m\u001B[0;34m\"monday\"\u001B[0m\u001B[0;34m,\u001B[0m \u001B[0;34m\"tuesday\"\u001B[0m\u001B[0;34m,\u001B[0m \u001B[0;34m\"wednesday\"\u001B[0m\u001B[0;34m,\u001B[0m \u001B[0;34m\"thursday\"\u001B[0m\u001B[0;34m,\u001B[0m \u001B[0;34m\"friday\"\u001B[0m\u001B[0;34m,\u001B[0m \u001B[0;34m\"saturday\"\u001B[0m\u001B[0;34m,\u001B[0m \u001B[0;34m\"sunday\"\u001B[0m\u001B[0;34m]\u001B[0m\u001B[0;34m[\u001B[0m\u001B[0mstart_time_obj\u001B[0m\u001B[0;34m.\u001B[0m\u001B[0mweekday\u001B[0m\u001B[0;34m(\u001B[0m\u001B[0;34m)\u001B[0m\u001B[0;34m]\u001B[0m\u001B[0;34m\u001B[0m\u001B[0;34m\u001B[0m\u001B[0m\n\u001B[1;32m     20\u001B[0m \u001B[0;34m\u001B[0m\u001B[0m\n\u001B[1;32m     21\u001B[0m     \u001B[0;31m# Step 1: Check for exceptions in calendar_dates\u001B[0m\u001B[0;34m\u001B[0m\u001B[0;34m\u001B[0m\u001B[0m\n\u001B[1;32m     22\u001B[0m     \u001B[0;32mif\u001B[0m \u001B[0mservice_id\u001B[0m \u001B[0;32min\u001B[0m \u001B[0mcalendar_dates\u001B[0m\u001B[0;34m[\u001B[0m\u001B[0;34m\"service_id\"\u001B[0m\u001B[0;34m]\u001B[0m\u001B[0;34m.\u001B[0m\u001B[0mvalues\u001B[0m\u001B[0;34m:\u001B[0m\u001B[0;34m\u001B[0m\u001B[0;34m\u001B[0m\u001B[0m\n\u001B[0;32m---> 23\u001B[0;31m         \u001B[0mexceptions\u001B[0m \u001B[0;34m=\u001B[0m \u001B[0mcalendar_dates\u001B[0m\u001B[0;34m[\u001B[0m\u001B[0mcalendar_dates\u001B[0m\u001B[0;34m[\u001B[0m\u001B[0;34m\"service_id\"\u001B[0m\u001B[0;34m]\u001B[0m \u001B[0;34m==\u001B[0m \u001B[0mservice_id\u001B[0m\u001B[0;34m]\u001B[0m\u001B[0;34m\u001B[0m\u001B[0;34m\u001B[0m\u001B[0m\n\u001B[0m\u001B[1;32m     24\u001B[0m         \u001B[0;32mfor\u001B[0m \u001B[0m_\u001B[0m\u001B[0;34m,\u001B[0m \u001B[0mexception\u001B[0m \u001B[0;32min\u001B[0m \u001B[0mexceptions\u001B[0m\u001B[0;34m.\u001B[0m\u001B[0miterrows\u001B[0m\u001B[0;34m(\u001B[0m\u001B[0;34m)\u001B[0m\u001B[0;34m:\u001B[0m\u001B[0;34m\u001B[0m\u001B[0;34m\u001B[0m\u001B[0m\n\u001B[1;32m     25\u001B[0m             \u001B[0;32mif\u001B[0m \u001B[0mexception\u001B[0m\u001B[0;34m[\u001B[0m\u001B[0;34m\"date\"\u001B[0m\u001B[0;34m]\u001B[0m \u001B[0;34m==\u001B[0m \u001B[0mint\u001B[0m\u001B[0;34m(\u001B[0m\u001B[0mdate_str\u001B[0m\u001B[0;34m)\u001B[0m\u001B[0;34m:\u001B[0m\u001B[0;34m\u001B[0m\u001B[0;34m\u001B[0m\u001B[0m\n\u001B[1;32m     26\u001B[0m                 \u001B[0;32mif\u001B[0m \u001B[0mexception\u001B[0m\u001B[0;34m[\u001B[0m\u001B[0;34m\"exception_type\"\u001B[0m\u001B[0;34m]\u001B[0m \u001B[0;34m==\u001B[0m \u001B[0;36m2\u001B[0m\u001B[0;34m:\u001B[0m  \u001B[0;31m# Service is added as an exception\u001B[0m\u001B[0;34m\u001B[0m\u001B[0;34m\u001B[0m\u001B[0m\n",
      "\u001B[0;32m~/PycharmProjects/TRAPPIST/A&D_job_shop/pythonProject/lib/python3.11/site-packages/pandas/core/frame.py\u001B[0m in \u001B[0;36m?\u001B[0;34m(self, key)\u001B[0m\n\u001B[0;32m-> 4062\u001B[0;31m     \u001B[0;32mdef\u001B[0m \u001B[0m__getitem__\u001B[0m\u001B[0;34m(\u001B[0m\u001B[0mself\u001B[0m\u001B[0;34m,\u001B[0m \u001B[0mkey\u001B[0m\u001B[0;34m)\u001B[0m\u001B[0;34m:\u001B[0m\u001B[0;34m\u001B[0m\u001B[0;34m\u001B[0m\u001B[0m\n\u001B[0m\u001B[1;32m   4063\u001B[0m         \u001B[0mcheck_dict_or_set_indexers\u001B[0m\u001B[0;34m(\u001B[0m\u001B[0mkey\u001B[0m\u001B[0;34m)\u001B[0m\u001B[0;34m\u001B[0m\u001B[0;34m\u001B[0m\u001B[0m\n\u001B[1;32m   4064\u001B[0m         \u001B[0mkey\u001B[0m \u001B[0;34m=\u001B[0m \u001B[0mlib\u001B[0m\u001B[0;34m.\u001B[0m\u001B[0mitem_from_zerodim\u001B[0m\u001B[0;34m(\u001B[0m\u001B[0mkey\u001B[0m\u001B[0;34m)\u001B[0m\u001B[0;34m\u001B[0m\u001B[0;34m\u001B[0m\u001B[0m\n\u001B[1;32m   4065\u001B[0m         \u001B[0mkey\u001B[0m \u001B[0;34m=\u001B[0m \u001B[0mcom\u001B[0m\u001B[0;34m.\u001B[0m\u001B[0mapply_if_callable\u001B[0m\u001B[0;34m(\u001B[0m\u001B[0mkey\u001B[0m\u001B[0;34m,\u001B[0m \u001B[0mself\u001B[0m\u001B[0;34m)\u001B[0m\u001B[0;34m\u001B[0m\u001B[0;34m\u001B[0m\u001B[0m\n",
      "\u001B[0;31mKeyboardInterrupt\u001B[0m: "
     ]
    }
   ],
   "execution_count": 151
  },
  {
   "metadata": {
    "ExecuteTime": {
     "end_time": "2025-01-21T20:40:24.228398Z",
     "start_time": "2025-01-21T20:40:24.213097Z"
    }
   },
   "cell_type": "code",
   "source": [
    "def find_backup_routes(graph, path_fixed, start_time_minutes, time_budget_minutes = 3000, MIN_TRANSFER_TIME = 5,used_routes = {segment[0] for segment in path_fixed if isinstance(segment, tuple) and len(segment) == 3}):\n",
    "    \"\"\"\n",
    "    (graph, start_name, end_name, start_time_minutes, time_budget_minutes,\n",
    "                                    exclude_routes=set()):\n",
    "    Findet die zuverlässigste Backup-Route für jeden Umstiegspunkt in der Primärroute.\n",
    "\n",
    "    :param graph: Der Transportgraph.\n",
    "    :param primary_path: Die Primärroute, berechnet durch Dijkstra.\n",
    "    :param start_time_minutes: Startzeit in Minuten.\n",
    "    :param time_budget_minutes: Zeitbudget in Minuten.\n",
    "    :param min_transfer_time: Minimale Transferzeit in Minuten.\n",
    "    :return: Liste der zuverlässigsten Backup-Routen für jeden Umstiegspunkt.\n",
    "    \"\"\"\n",
    "    backup_routes = []\n",
    "\n",
    "    last_route = None    \n",
    "\n",
    "    for i in range(1, len(path_fixed) - 1, 2):  # Alle Umstiegspunkte durchgehen\n",
    "        transfer_stop, transfer_time = path_fixed[i - 1]\n",
    "    # Identifiziere alle Umstiegspunkte in der Route\n",
    "    for i in range(1, len(path_fixed) - 1, 2):\n",
    "        \n",
    "        adjusted_transfer_time = MIN_TRANSFER_TIME + 15\n",
    "        current_stop, current_time = path_fixed[i - 1]\n",
    "        route_id, departure_time, arrival_time = path_fixed[i]\n",
    "        next_stop, _ = path_fixed[i + 1]\n",
    "\n",
    "        if route_id != last_route:\n",
    "    \n",
    "        \n",
    "            # Berechne Backup-Route ab dem aktuellen Umstiegspunkt\n",
    "\n",
    "            backup_time, backup_path, backup_reliability = dijkstra_with_reliability_fixed(\n",
    "                graph, transfer_stop, path_fixed[-1][0], transfer_time, time_budget_minutes, used_routes\n",
    "            )\n",
    "\n",
    "            if backup_time < float(\"inf\") and backup_path and backup_path !=path_fixed:\n",
    "                alternative_path = []\n",
    "                alternative_routes = set()\n",
    "\n",
    "                for j in range(1, len(backup_path) - 1, 2):\n",
    "                    stop1, time1 = backup_path[j - 1]\n",
    "                    route, dep, arr = backup_path[j]\n",
    "                    stop2, _ = backup_path[j + 1]\n",
    "\n",
    "                    # **Kriterium für alternative Backup-Route:**\n",
    "                    # - Die Route darf nicht exakt der Primärroute entsprechen.\n",
    "                    # - Die Haltestellen dürfen wiederverwendet werden, aber nicht in identischen Abschnitten.\n",
    "                    if route not in used_routes:\n",
    "                        alternative_path.append((stop1, minutes_to_time(dep), stop2, minutes_to_time(arr), route))\n",
    "                        alternative_routes.add(route)\n",
    "\n",
    "                if alternative_path:\n",
    "                    backup_routes.append((transfer_stop, alternative_path, backup_reliability))\n",
    "                    used_routes.update(alternative_routes)  # Speichere die genutzten alternativen Linien\n",
    "\n",
    "            \n",
    "\n",
    "\n",
    "            #if backup_time < float(\"inf\") and backup_path:\n",
    "            backup_routes.append({\n",
    "                    \"transfer_stop\": current_stop,\n",
    "                    \"backup_path\": backup_path,\n",
    "                    \"backup_reliability\": backup_reliability\n",
    "                })\n",
    "\n",
    "    \n",
    "        last_route = route_id\n",
    "        \n",
    "    # Berechne Backup-Routen ab dem Umstiegspunkt\n",
    "\n",
    "\n",
    "    return backup_routes\n",
    "\n",
    "\n",
    "\n"
   ],
   "id": "a67e9cec69c652d2",
   "outputs": [],
   "execution_count": 180
  },
  {
   "metadata": {
    "ExecuteTime": {
     "end_time": "2025-01-21T20:41:14.380339Z",
     "start_time": "2025-01-21T20:41:14.368996Z"
    }
   },
   "cell_type": "code",
   "source": [
    "\n",
    "def find_backup_routes(graph, primary_path, start_time_minutes, time_budget_minutes):\n",
    "    backup_routes = []\n",
    "    used_routes = {segment[0] for segment in primary_path if isinstance(segment, tuple) and len(segment) == 3}\n",
    "\n",
    "    for i in range(1, len(primary_path) - 1, 2):  # Alle Umstiegspunkte durchgehen\n",
    "        transfer_stop, transfer_time = primary_path[i - 1]\n",
    "\n",
    "        if transfer_stop in graph:\n",
    "            backup_time, backup_path, backup_reliability = dijkstra_with_reliability_fixed(\n",
    "                graph, transfer_stop, primary_path[-1][0], transfer_time, time_budget_minutes, used_routes\n",
    "            )\n",
    "\n",
    "            if backup_time < float(\"inf\") and backup_path and backup_path != primary_path:\n",
    "                alternative_path = []\n",
    "                alternative_routes = set()\n",
    "\n",
    "                for j in range(1, len(backup_path) - 1, 2):\n",
    "                    stop1, time1 = backup_path[j - 1]\n",
    "                    route, dep, arr = backup_path[j]\n",
    "                    stop2, _ = backup_path[j + 1]\n",
    "\n",
    "                    # **Kriterium für alternative Backup-Route:**\n",
    "                    # - Die Route darf nicht exakt der Primärroute entsprechen.\n",
    "                    # - Die Haltestellen dürfen wiederverwendet werden, aber nicht in identischen Abschnitten.\n",
    "                    if route not in used_routes:\n",
    "                        alternative_path.append((stop1, minutes_to_time(dep), stop2, minutes_to_time(arr), route))\n",
    "                        alternative_routes.add(route)\n",
    "\n",
    "                if alternative_path:\n",
    "                    backup_routes.append((transfer_stop, alternative_path, backup_reliability))\n",
    "                    used_routes.update(alternative_routes)  # Speichere die genutzten alternativen Linien\n",
    "\n",
    "    return backup_routes  # Gibt jetzt echte alternative Backup-Routen zurück\n"
   ],
   "id": "7ea58021f19f42a8",
   "outputs": [],
   "execution_count": 185
  },
  {
   "metadata": {
    "ExecuteTime": {
     "end_time": "2025-01-21T20:41:35.491861Z",
     "start_time": "2025-01-21T20:41:35.468526Z"
    }
   },
   "cell_type": "code",
   "source": "backup_routes = find_backup_routes(graph,path_fixed, start_time_minutes, time_budget_minutes = 3000, MIN_TRANSFER_TIME = 5)",
   "id": "3c15216b44211275",
   "outputs": [
    {
     "ename": "TypeError",
     "evalue": "find_backup_routes() got an unexpected keyword argument 'MIN_TRANSFER_TIME'",
     "output_type": "error",
     "traceback": [
      "\u001B[0;31m---------------------------------------------------------------------------\u001B[0m",
      "\u001B[0;31mTypeError\u001B[0m                                 Traceback (most recent call last)",
      "Cell \u001B[0;32mIn[188], line 1\u001B[0m\n\u001B[0;32m----> 1\u001B[0m backup_routes \u001B[38;5;241m=\u001B[39m \u001B[43mfind_backup_routes\u001B[49m\u001B[43m(\u001B[49m\u001B[43mgraph\u001B[49m\u001B[43m,\u001B[49m\u001B[43mpath_fixed\u001B[49m\u001B[43m,\u001B[49m\u001B[43m \u001B[49m\u001B[43mstart_time_minutes\u001B[49m\u001B[43m,\u001B[49m\u001B[43m \u001B[49m\u001B[43mtime_budget_minutes\u001B[49m\u001B[43m \u001B[49m\u001B[38;5;241;43m=\u001B[39;49m\u001B[43m \u001B[49m\u001B[38;5;241;43m3000\u001B[39;49m\u001B[43m,\u001B[49m\u001B[43m \u001B[49m\u001B[43mMIN_TRANSFER_TIME\u001B[49m\u001B[43m \u001B[49m\u001B[38;5;241;43m=\u001B[39;49m\u001B[43m \u001B[49m\u001B[38;5;241;43m5\u001B[39;49m\u001B[43m)\u001B[49m\n",
      "\u001B[0;31mTypeError\u001B[0m: find_backup_routes() got an unexpected keyword argument 'MIN_TRANSFER_TIME'"
     ]
    }
   ],
   "execution_count": 188
  },
  {
   "metadata": {
    "ExecuteTime": {
     "end_time": "2025-01-21T20:40:53.666476Z",
     "start_time": "2025-01-21T20:40:53.659276Z"
    }
   },
   "cell_type": "code",
   "source": "backup_routes",
   "id": "aeffb3c155428ef6",
   "outputs": [
    {
     "data": {
      "text/plain": [
       "[('Wien Hauptbahnhof',\n",
       "  [('Wien Hauptbahnhof',\n",
       "    '16:12',\n",
       "    'Flughafen Wien Bahnhof',\n",
       "    '16:27',\n",
       "    '10-A1-j24-1')],\n",
       "  1.0),\n",
       " {'transfer_stop': 'Schattendorf Kirchengasse',\n",
       "  'backup_path': [('Wien Hauptbahnhof', 962.0),\n",
       "   ('10-A1-j24-1', 972.0, 987.0),\n",
       "   ('Flughafen Wien Bahnhof', 987.0)],\n",
       "  'backup_reliability': 1.0},\n",
       " {'transfer_stop': 'Loipersbach-Schattendorf Bhf.',\n",
       "  'backup_path': [],\n",
       "  'backup_reliability': 0.0},\n",
       " {'transfer_stop': 'Wiener Neustadt Hauptbahnhof',\n",
       "  'backup_path': [],\n",
       "  'backup_reliability': 0.0},\n",
       " {'transfer_stop': 'Wien Hauptbahnhof',\n",
       "  'backup_path': [],\n",
       "  'backup_reliability': 0.0}]"
      ]
     },
     "execution_count": 182,
     "metadata": {},
     "output_type": "execute_result"
    }
   ],
   "execution_count": 182
  },
  {
   "metadata": {
    "ExecuteTime": {
     "end_time": "2025-01-21T17:24:31.863076Z",
     "start_time": "2025-01-21T17:24:31.850338Z"
    }
   },
   "cell_type": "code",
   "source": [
    "    backup_routes = []\n",
    "    min_transfer_time = 5\n",
    "    last_route = None\n",
    "    # Identifiziere alle Umstiegspunkte in der Route\n",
    "    for i in range(1, len(path_fixed) - 1, 2):\n",
    "        adjusted_transfer_time = min_transfer_time + 5\n",
    "        current_stop, current_time = path_fixed[i - 1]\n",
    "        route_id, departure_time, arrival_time = path_fixed[i]\n",
    "        next_stop, _ = path_fixed[i + 1]\n",
    "\n",
    "        if route_id != last_route:\n",
    "            print(current_stop,route_id,last_route,next_stop)\n",
    "        last_route = route_id"
   ],
   "id": "4a1ebe1f1ec4acd4",
   "outputs": [
    {
     "name": "stdout",
     "output_type": "stream",
     "text": [
      "Schattendorf Kirchengasse 20-SV5-L-j24-1 None Loipersbach-Schattendorf Bhf.\n",
      "Loipersbach-Schattendorf Bhf. 3-R93-A-j24-1 20-SV5-L-j24-1 Marz-Rohrbach Bahnhof\n",
      "Wiener Neustadt Hauptbahnhof 10-A12-j24-1 3-R93-A-j24-1 Wien Meidling\n",
      "Wien Hauptbahnhof 10-A3-j24-1 10-A12-j24-1 Flughafen Wien Bahnhof\n"
     ]
    }
   ],
   "execution_count": 132
  },
  {
   "metadata": {
    "ExecuteTime": {
     "end_time": "2025-01-21T17:07:05.156444Z",
     "start_time": "2025-01-21T17:07:05.149613Z"
    }
   },
   "cell_type": "code",
   "source": "is_transfer(path_fixed)",
   "id": "3e99270169aa279f",
   "outputs": [
    {
     "data": {
      "text/plain": [
       "False"
      ]
     },
     "execution_count": 119,
     "metadata": {},
     "output_type": "execute_result"
    }
   ],
   "execution_count": 119
  },
  {
   "metadata": {
    "ExecuteTime": {
     "end_time": "2025-01-21T17:05:26.716296Z",
     "start_time": "2025-01-21T17:05:26.706399Z"
    }
   },
   "cell_type": "code",
   "source": "path_fixed  ",
   "id": "b7a3c3458cde6d2b",
   "outputs": [
    {
     "data": {
      "text/plain": [
       "[('Schattendorf Kirchengasse', 870),\n",
       " ('20-SV5-L-j24-1', 883.0, 888.0),\n",
       " ('Loipersbach-Schattendorf Bhf.', 888.0),\n",
       " ('3-R93-A-j24-1', 894.0, 898.0),\n",
       " ('Marz-Rohrbach Bahnhof', 898.0),\n",
       " ('3-R93-A-j24-1', 899.0, 901.0),\n",
       " ('Mattersburg Bahnhof', 901.0),\n",
       " ('3-R93-A-j24-1', 902.0, 903.0),\n",
       " ('Mattersburg Nord Bahnhof', 903.0),\n",
       " ('3-R93-A-j24-1', 904.0, 907.0),\n",
       " ('Wiesen-Sigleß Bahnhof', 907.0),\n",
       " ('3-R93-A-j24-1', 907.0, 911.0),\n",
       " ('Bad Sauerbrunn Bahnhof', 911.0),\n",
       " ('3-R93-A-j24-1', 913.0, 916.0),\n",
       " ('Neudörfl Bahnhof', 916.0),\n",
       " ('3-R93-A-j24-1', 917.0, 920.0),\n",
       " ('Katzelsdorf Bahnhof', 920.0),\n",
       " ('3-R93-A-j24-1', 920.0, 925.0),\n",
       " ('Wiener Neustadt Hauptbahnhof', 925.0),\n",
       " ('10-A12-j24-1', 930.0, 955.0),\n",
       " ('Wien Meidling', 955.0),\n",
       " ('10-A12-j24-1', 957.0, 962.0),\n",
       " ('Wien Hauptbahnhof', 962.0),\n",
       " ('10-A3-j24-1', 969.0, 984.0),\n",
       " ('Flughafen Wien Bahnhof', 984.0)]"
      ]
     },
     "execution_count": 117,
     "metadata": {},
     "output_type": "execute_result"
    }
   ],
   "execution_count": 117
  },
  {
   "metadata": {},
   "cell_type": "code",
   "outputs": [],
   "execution_count": null,
   "source": "",
   "id": "c67287cb4ea1ebbb"
  }
 ],
 "metadata": {
  "kernelspec": {
   "display_name": "Python 3",
   "language": "python",
   "name": "python3"
  },
  "language_info": {
   "codemirror_mode": {
    "name": "ipython",
    "version": 2
   },
   "file_extension": ".py",
   "mimetype": "text/x-python",
   "name": "python",
   "nbconvert_exporter": "python",
   "pygments_lexer": "ipython2",
   "version": "2.7.6"
  }
 },
 "nbformat": 4,
 "nbformat_minor": 5
}
